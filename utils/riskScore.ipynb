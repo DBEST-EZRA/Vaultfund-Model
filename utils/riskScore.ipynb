{
 "cells": [
  {
   "cell_type": "code",
   "execution_count": null,
   "metadata": {},
   "outputs": [],
   "source": [
    "import pandas as pd\n",
    "import joblib  # To load the trained model\n",
    "\n",
    "# Load the trained model\n",
    "model = joblib.load(\"random_forest_model.pkl\") \n",
    "\n",
    "# Load the test dataset\n",
    "X_test = pd.read_csv(\"X_test.csv\")\n",
    "\n",
    "# Predict fraud probability (Risk Score)\n",
    "fraud_probabilities = model.predict_proba(X_test)[:, 1]  # Get fraud probability (second column)\n",
    "\n",
    "# Load original dataset to attach risk scores\n",
    "original_data = pd.read_csv(\"your_main_file.csv\")  # Load main file\n",
    "test_data = original_data.iloc[50000:].copy()  # Select only test rows\n",
    "\n",
    "# Add risk scores to test data\n",
    "test_data[\"Risk_Score\"] = fraud_probabilities\n",
    "\n",
    "# Save results\n",
    "test_data.to_csv(\"risk_scores.csv\", index=False)\n",
    "\n",
    "# Display sample\n",
    "print(test_data[[\"Risk_Score\"]].head(10))\n"
   ]
  }
 ],
 "metadata": {
  "kernelspec": {
   "display_name": "Python 3",
   "language": "python",
   "name": "python3"
  },
  "language_info": {
   "name": "python",
   "version": "3.12.0"
  }
 },
 "nbformat": 4,
 "nbformat_minor": 2
}
